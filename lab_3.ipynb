{
 "cells": [
  {
   "cell_type": "markdown",
   "id": "502a74e8",
   "metadata": {},
   "source": [
    "# Лабораторна робота №3: Бустінг (AdaBoost)\n",
    "\n",
    "**Мета:** Ознайомлення із бустінгом, дослідження його ефективності для задачі класифікації з різними слабкими класифікаторами на прикладі AdaBoost."
   ]
  },
  {
   "cell_type": "code",
   "execution_count": 19,
   "id": "fc5a78c9",
   "metadata": {},
   "outputs": [],
   "source": [
    "# Імпорт необхідних бібліотек\n",
    "import pandas as pd\n",
    "import numpy as np\n",
    "import time # Для вимірювання часу виконання\n",
    "# StandardScaler може бути не потрібен, якщо використовуємо тільки DT і LinearSVC на масштабованих даних\n",
    "# from sklearn.preprocessing import StandardScaler\n",
    "from sklearn.tree import DecisionTreeClassifier\n",
    "from sklearn.svm import LinearSVC\n",
    "from sklearn.ensemble import AdaBoostClassifier\n",
    "from sklearn.metrics import accuracy_score, precision_score, f1_score, classification_report\n",
    "import warnings\n",
    "\n",
    "# Ігнорувати попередження для чистоти виводу\n",
    "warnings.filterwarnings('ignore', category=FutureWarning)\n",
    "warnings.filterwarnings('ignore', category=UserWarning)\n",
    "from sklearn.exceptions import ConvergenceWarning\n",
    "warnings.filterwarnings('ignore', category=ConvergenceWarning)"
   ]
  },
  {
   "cell_type": "markdown",
   "id": "eb2ce145",
   "metadata": {},
   "source": [
    "### Завантаження даних Fashion MNIST з CSV"
   ]
  },
  {
   "cell_type": "code",
   "execution_count": 20,
   "id": "d77125b4",
   "metadata": {},
   "outputs": [
    {
     "name": "stdout",
     "output_type": "stream",
     "text": [
      "Датасети Fashion MNIST успішно завантажено з CSV.\n"
     ]
    }
   ],
   "source": [
    "train_df = pd.read_csv('data/FashionMNIST/fashion-mnist_train.csv')\n",
    "test_df = pd.read_csv('data/FashionMNIST/fashion-mnist_test.csv')\n",
    "print(\"Датасети Fashion MNIST успішно завантажено з CSV.\")"
   ]
  },
  {
   "cell_type": "markdown",
   "id": "0308936c",
   "metadata": {},
   "source": [
    "### Підготовка даних"
   ]
  },
  {
   "cell_type": "code",
   "execution_count": 21,
   "id": "e126a6c5",
   "metadata": {},
   "outputs": [
    {
     "name": "stdout",
     "output_type": "stream",
     "text": [
      "\n",
      "Початковий розмір тренувального датасету: (60000, 785)\n",
      "Початковий розмір тестового датасету: (10000, 785)\n",
      "\n",
      "Розмір навчальних ознак (X_train): (60000, 784)\n",
      "Розмір навчальних міток (y_train): (60000,)\n",
      "Розмір тестових ознак (X_test): (10000, 784)\n",
      "Розмір тестових міток (y_test): (10000,)\n"
     ]
    }
   ],
   "source": [
    "print(\"\\nПочатковий розмір тренувального датасету:\", train_df.shape)\n",
    "print(\"Початковий розмір тестового датасету:\", test_df.shape)\n",
    "\n",
    "# Розділення на ознаки (X) та мітки (y)\n",
    "# Перший стовпець ('label') - це мітка класу, решта - пікселі зображення\n",
    "X_train_raw = train_df.drop('label', axis=1)\n",
    "y_train = train_df['label']\n",
    "X_test_raw = test_df.drop('label', axis=1)\n",
    "y_test = test_df['label']\n",
    "\n",
    "print(f\"\\nРозмір навчальних ознак (X_train): {X_train_raw.shape}\")\n",
    "print(f\"Розмір навчальних міток (y_train): {y_train.shape}\")\n",
    "print(f\"Розмір тестових ознак (X_test): {X_test_raw.shape}\")\n",
    "print(f\"Розмір тестових міток (y_test): {y_test.shape}\")"
   ]
  },
  {
   "cell_type": "markdown",
   "id": "55311fe5",
   "metadata": {},
   "source": [
    "### Попередня обробка: масштабування даних"
   ]
  },
  {
   "cell_type": "code",
   "execution_count": 22,
   "id": "6844754d",
   "metadata": {},
   "outputs": [
    {
     "name": "stdout",
     "output_type": "stream",
     "text": [
      "\n",
      "Масштабування даних виконано (значення пікселів поділено на 255.0).\n",
      "Приклад значень після масштабування: 0.0 - 1.0\n"
     ]
    }
   ],
   "source": [
    "# Значення пікселів знаходяться в діапазоні [0, 255]. Масштабуємо їх до [0, 1].\n",
    "# Це важливо для MLP.\n",
    "X_train = X_train_raw / 255.0\n",
    "X_test = X_test_raw / 255.0\n",
    "\n",
    "print(\"\\nМасштабування даних виконано (значення пікселів поділено на 255.0).\")\n",
    "print(\"Приклад значень після масштабування:\", X_train.iloc[0].min(), \"-\", X_train.iloc[0].max())"
   ]
  },
  {
   "cell_type": "markdown",
   "id": "84635643",
   "metadata": {},
   "source": [
    "### Визначення слабких класифікаторів та ансамблів AdaBoost"
   ]
  },
  {
   "cell_type": "markdown",
   "id": "cce1ef32",
   "metadata": {},
   "source": [
    "#### Налаштування слабких класифікаторів"
   ]
  },
  {
   "cell_type": "code",
   "execution_count": 23,
   "id": "7b129446",
   "metadata": {},
   "outputs": [
    {
     "name": "stdout",
     "output_type": "stream",
     "text": [
      "Слабкі класифікатори визначено: Decision Tree (stump, max_depth=1), LinearSVC.\n"
     ]
    }
   ],
   "source": [
    "# Використовуємо стандартні гіперпараметри.\n",
    "# random_state=42 для відтворюваності.\n",
    "\n",
    "# DecisionTreeClassifier за замовчуванням не має обмеження глибини,\n",
    "# що робить його не дуже \"слабким\". Для AdaBoost часто використовують\n",
    "# неглибокі дерева (stumps - max_depth=1). Використаємо max_depth=1.\n",
    "dt_stump = DecisionTreeClassifier(max_depth=1, random_state=42)\n",
    "\n",
    "# LinearSVC з параметрами за замовчуванням.\n",
    "# Може видавати ConvergenceWarning, якщо max_iter (за замовчуванням 1000) недостатньо.\n",
    "# dual=False рекомендується, коли n_samples > n_features, що тут вірно.\n",
    "# Збільшимо max_iter про всяк випадок.\n",
    "linear_svc_clf = LinearSVC(random_state=42, dual=False, max_iter=2000) # Додано dual=False та збільшено max_iter\n",
    "\n",
    "print(\"Слабкі класифікатори визначено: Decision Tree (stump, max_depth=1), LinearSVC.\")"
   ]
  },
  {
   "cell_type": "markdown",
   "id": "a33aab22",
   "metadata": {},
   "source": [
    "#### Створення ансамблів за допомогою AdaBoostClassifier"
   ]
  },
  {
   "cell_type": "code",
   "execution_count": 24,
   "id": "70a484f5",
   "metadata": {},
   "outputs": [
    {
     "name": "stdout",
     "output_type": "stream",
     "text": [
      "Ансамблі AdaBoost створено для Decision Tree (stump) та LinearSVC (з алгоритмом SAMME).\n"
     ]
    }
   ],
   "source": [
    "# Використовуємо AdaBoostClassifier з параметрами за замовчуванням (n_estimators=50).\n",
    "# Базовий класифікатор передається через параметр `estimator`.\n",
    "\n",
    "# AdaBoost з деревом рішень (stump)\n",
    "# Алгоритм за замовчуванням 'SAMME.R' працює добре з деревами\n",
    "adaboost_dt = AdaBoostClassifier(\n",
    "    estimator=DecisionTreeClassifier(max_depth=1, random_state=42), # Передаємо новий екземпляр\n",
    "    n_estimators=50, # Стандартне значення\n",
    "    random_state=42\n",
    ")\n",
    "\n",
    "# AdaBoost з LinearSVC\n",
    "# Необхідно використовувати алгоритм 'SAMME', оскільки LinearSVC не має методу predict_proba.\n",
    "adaboost_linearsvc = AdaBoostClassifier(\n",
    "    estimator=LinearSVC(random_state=42, dual=False, max_iter=2000), # Передаємо новий екземпляр\n",
    "    n_estimators=50, # Стандартне значення\n",
    "    random_state=42,\n",
    "    algorithm='SAMME' \n",
    ")\n",
    "\n",
    "print(\"Ансамблі AdaBoost створено для Decision Tree (stump) та LinearSVC (з алгоритмом SAMME).\")"
   ]
  },
  {
   "cell_type": "markdown",
   "id": "4465fdaa",
   "metadata": {},
   "source": [
    "### Навчання та оцінка моделей"
   ]
  },
  {
   "cell_type": "markdown",
   "id": "d9cd48a9",
   "metadata": {},
   "source": [
    "#### Створення списку моделей для ітерації"
   ]
  },
  {
   "cell_type": "code",
   "execution_count": 25,
   "id": "4b7fc368",
   "metadata": {},
   "outputs": [
    {
     "name": "stdout",
     "output_type": "stream",
     "text": [
      "ЗАПУСК НА ЗМЕНШЕНІЙ ВИБІРЦІ: 5000 тренувальних, 1000 тестових.\n"
     ]
    }
   ],
   "source": [
    "# Зменшення вибірки для швидшого виконання\n",
    "N_SAMPLES_TRAIN = 5000 \n",
    "N_SAMPLES_TEST = 1000  \n",
    "X_train_run = X_train[:N_SAMPLES_TRAIN]\n",
    "y_train_run = y_train[:N_SAMPLES_TRAIN]\n",
    "X_test_run = X_test[:N_SAMPLES_TEST]\n",
    "y_test_run = y_test[:N_SAMPLES_TEST]\n",
    "print(f\"ЗАПУСК НА ЗМЕНШЕНІЙ ВИБІРЦІ: {N_SAMPLES_TRAIN} тренувальних, {N_SAMPLES_TEST} тестових.\")\n",
    "\n",
    "\n",
    "models = {\n",
    "    \"слабкий класифікатор 1 (Decision Tree Stump)\": dt_stump,\n",
    "    \"ансамбль AdaBoost (Decision Tree Stump)\": adaboost_dt,\n",
    "    \"слабкий класифікатор 2 (LinearSVC)\": linear_svc_clf,\n",
    "    \"ансамбль AdaBoost (LinearSVC)\": adaboost_linearsvc, # Використовує LinearSVC і SAMME\n",
    "}\n",
    "\n",
    "results = {} # Словник для зберігання результатів"
   ]
  },
  {
   "cell_type": "markdown",
   "id": "5f941a34",
   "metadata": {},
   "source": [
    "#### Цикл навчання та оцінки"
   ]
  },
  {
   "cell_type": "code",
   "execution_count": 26,
   "id": "2d1f994a",
   "metadata": {},
   "outputs": [
    {
     "name": "stdout",
     "output_type": "stream",
     "text": [
      "\n",
      "--- Початок навчання та оцінки моделей ---\n",
      "\n",
      "Обробка моделі: слабкий класифікатор 1 (Decision Tree Stump)\n",
      "  Навчання завершено за 0.09 сек.\n",
      "  Прогнозування завершено за 0.00 сек.\n",
      "  Результати для слабкий класифікатор 1 (Decision Tree Stump):\n",
      "    Accuracy: 0.1980\n",
      "    Precision (weighted): 0.0454\n",
      "    F1 Score (weighted): 0.0726\n",
      "\n",
      "Обробка моделі: ансамбль AdaBoost (Decision Tree Stump)\n",
      "  Навчання завершено за 4.47 сек.\n",
      "  Прогнозування завершено за 0.02 сек.\n",
      "  Результати для ансамбль AdaBoost (Decision Tree Stump):\n",
      "    Accuracy: 0.4650\n",
      "    Precision (weighted): 0.4799\n",
      "    F1 Score (weighted): 0.4061\n",
      "\n",
      "Обробка моделі: слабкий класифікатор 2 (LinearSVC)\n",
      "  Навчання завершено за 1.86 сек.\n",
      "  Прогнозування завершено за 0.00 сек.\n",
      "  Результати для слабкий класифікатор 2 (LinearSVC):\n",
      "    Accuracy: 0.8070\n",
      "    Precision (weighted): 0.8070\n",
      "    F1 Score (weighted): 0.8063\n",
      "\n",
      "Обробка моделі: ансамбль AdaBoost (LinearSVC)\n",
      "  Навчання завершено за 38.42 сек.\n",
      "  Прогнозування завершено за 0.03 сек.\n",
      "  Результати для ансамбль AdaBoost (LinearSVC):\n",
      "    Accuracy: 0.7660\n",
      "    Precision (weighted): 0.7731\n",
      "    F1 Score (weighted): 0.7682\n",
      "\n",
      "--- Навчання та оцінка завершено ---\n"
     ]
    }
   ],
   "source": [
    "print(\"\\n--- Початок навчання та оцінки моделей ---\")\n",
    "for name, model in models.items():\n",
    "    print(f\"\\nОбробка моделі: {name}\")\n",
    "    start_time = time.time()\n",
    "\n",
    "    # Навчання моделі\n",
    "    try:\n",
    "        # Для AdaBoost не потрібен Pipeline з препроцесором, бо масштабування вже зроблено\n",
    "        model.fit(X_train_run, y_train_run)\n",
    "        fit_time = time.time() - start_time\n",
    "        print(f\"  Навчання завершено за {fit_time:.2f} сек.\")\n",
    "\n",
    "        # Прогнозування на тестовій вибірці\n",
    "        predict_start_time = time.time()\n",
    "        y_pred = model.predict(X_test_run)\n",
    "        predict_time = time.time() - predict_start_time\n",
    "        print(f\"  Прогнозування завершено за {predict_time:.2f} сек.\")\n",
    "\n",
    "        # Оцінка моделі\n",
    "        accuracy = accuracy_score(y_test_run, y_pred)\n",
    "        # Використовуємо weighted average для precision та f1-score\n",
    "        precision = precision_score(y_test_run, y_pred, average='weighted', zero_division=0)\n",
    "        f1 = f1_score(y_test_run, y_pred, average='weighted', zero_division=0)\n",
    "\n",
    "        # Збереження результатів\n",
    "        # У таблиці лабораторної вказано стовпець \"Boosting\" - вкажемо тип бустінгу\n",
    "        boosting_type = \"AdaBoost\" if isinstance(model, AdaBoostClassifier) else \"N/A\"\n",
    "\n",
    "        results[name] = {\n",
    "            \"Boosting\": boosting_type,\n",
    "            \"Accuracy (test)\": accuracy,\n",
    "            \"Precision (test)\": precision,\n",
    "            \"F1 Score (test)\": f1,\n",
    "            \"Fit Time (s)\": fit_time,\n",
    "            \"Predict Time (s)\": predict_time\n",
    "        }\n",
    "\n",
    "        print(f\"  Результати для {name}:\")\n",
    "        print(f\"    Accuracy: {accuracy:.4f}\")\n",
    "        print(f\"    Precision (weighted): {precision:.4f}\")\n",
    "        print(f\"    F1 Score (weighted): {f1:.4f}\")\n",
    "\n",
    "    except Exception as e:\n",
    "        error_time = time.time() - start_time\n",
    "        print(f\"  ПОМИЛКА під час обробки моделі {name} ({error_time:.2f} сек.): {e}\")\n",
    "        results[name] = {\n",
    "            \"Boosting\": \"Error\",\n",
    "            \"Accuracy (test)\": np.nan,\n",
    "            \"Precision (test)\": np.nan,\n",
    "            \"F1 Score (test)\": np.nan,\n",
    "            \"Fit Time (s)\": error_time,\n",
    "            \"Predict Time (s)\": 0\n",
    "        }\n",
    "\n",
    "print(\"\\n--- Навчання та оцінка завершено ---\")"
   ]
  },
  {
   "cell_type": "code",
   "execution_count": 28,
   "id": "bf1f78ef",
   "metadata": {},
   "outputs": [
    {
     "name": "stdout",
     "output_type": "stream",
     "text": [
      "\n",
      "--- Підсумкова таблиця результатів ---\n",
      "|                                              | Boosting   |   Average Accuracy (test) |   Average Precision (test) |   F1 score (test) |   Fit Time (s) |   Predict Time (s) |\n",
      "|:---------------------------------------------|:-----------|--------------------------:|---------------------------:|------------------:|---------------:|-------------------:|\n",
      "| слабкий класифікатор 1 (Decision Tree Stump) | N/A        |                    0.1980 |                     0.0454 |            0.0726 |         0.0895 |             0.0027 |\n",
      "| ансамбль AdaBoost (Decision Tree Stump)      | AdaBoost   |                    0.4650 |                     0.4799 |            0.4061 |         4.4667 |             0.0185 |\n",
      "| слабкий класифікатор 2 (LinearSVC)           | N/A        |                    0.8070 |                     0.8070 |            0.8063 |         1.8557 |             0.0030 |\n",
      "| ансамбль AdaBoost (LinearSVC)                | AdaBoost   |                    0.7660 |                     0.7731 |            0.7682 |        38.4219 |             0.0312 |\n"
     ]
    }
   ],
   "source": [
    "print(\"\\n--- Підсумкова таблиця результатів ---\")\n",
    "results_df = pd.DataFrame.from_dict(results, orient='index')\n",
    "\n",
    "# Перейменування стовпців для відповідності таблиці з лабораторної\n",
    "results_df = results_df.rename(columns={\n",
    "    \"Accuracy (test)\": \"Average Accuracy (test)\",\n",
    "    \"Precision (test)\": \"Average Precision (test)\", # В лабораторній це \"(validation)\", але ми рахували на test\n",
    "    \"F1 Score (test)\": \"F1 score (test)\"\n",
    "})\n",
    "\n",
    "# Встановлення порядку стовпців як у лабораторній + додамо час\n",
    "column_order = [\n",
    "    \"Boosting\",\n",
    "    \"Average Accuracy (test)\",\n",
    "    \"Average Precision (test)\", # Додамо реальний Precision на тесті\n",
    "    \"F1 score (test)\",\n",
    "    \"Fit Time (s)\",\n",
    "    \"Predict Time (s)\"\n",
    "]\n",
    "\n",
    "# Додаємо відсутні стовпці, якщо їх немає, і перевпорядковуємо\n",
    "for col in column_order:\n",
    "    if col not in results_df.columns:\n",
    "        results_df[col] = \"N/A\" # Або інше значення за замовчуванням\n",
    "\n",
    "results_df = results_df[column_order]\n",
    "\n",
    "# Вивід у форматі Markdown з форматуванням чисел\n",
    "print(results_df.to_markdown(floatfmt=\".4f\"))"
   ]
  }
 ],
 "metadata": {
  "kernelspec": {
   "display_name": ".venv",
   "language": "python",
   "name": "python3"
  },
  "language_info": {
   "codemirror_mode": {
    "name": "ipython",
    "version": 3
   },
   "file_extension": ".py",
   "mimetype": "text/x-python",
   "name": "python",
   "nbconvert_exporter": "python",
   "pygments_lexer": "ipython3",
   "version": "3.10.12"
  }
 },
 "nbformat": 4,
 "nbformat_minor": 5
}
