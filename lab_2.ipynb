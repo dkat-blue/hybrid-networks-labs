{
 "cells": [
  {
   "cell_type": "markdown",
   "id": "11788246",
   "metadata": {},
   "source": [
    "## Лабораторна робота №2: Беггінг\n",
    "\n",
    "**Мета:** Ознайомлення із беггінгом, дослідження його ефективності\n",
    "для задачі класифікації з різними слабкими класифікаторами."
   ]
  },
  {
   "cell_type": "code",
   "execution_count": 30,
   "id": "f35e0075",
   "metadata": {},
   "outputs": [],
   "source": [
    "# Імпорт необхідних бібліотек\n",
    "import pandas as pd\n",
    "import numpy as np\n",
    "from sklearn.model_selection import train_test_split\n",
    "from sklearn.preprocessing import StandardScaler, OneHotEncoder\n",
    "from sklearn.impute import SimpleImputer\n",
    "from sklearn.compose import ColumnTransformer\n",
    "from sklearn.pipeline import Pipeline\n",
    "from sklearn.neural_network import MLPClassifier\n",
    "from sklearn.svm import SVC\n",
    "from sklearn.tree import DecisionTreeClassifier\n",
    "from sklearn.ensemble import BaggingClassifier, VotingClassifier\n",
    "from sklearn.metrics import accuracy_score, precision_score, f1_score, classification_report\n",
    "import warnings\n",
    "\n",
    "# Ігнорувати попередження для чистоти виводу\n",
    "warnings.filterwarnings('ignore', category=UserWarning)\n",
    "warnings.filterwarnings('ignore', category=FutureWarning)"
   ]
  },
  {
   "cell_type": "markdown",
   "id": "ce3b31fc",
   "metadata": {},
   "source": [
    "### Завантаження даних"
   ]
  },
  {
   "cell_type": "code",
   "execution_count": 31,
   "id": "aa840d04",
   "metadata": {},
   "outputs": [
    {
     "name": "stdout",
     "output_type": "stream",
     "text": [
      "Датасет успішно завантажено.\n",
      "Перші 5 рядків даних:\n"
     ]
    },
    {
     "data": {
      "text/html": [
       "<div>\n",
       "<style scoped>\n",
       "    .dataframe tbody tr th:only-of-type {\n",
       "        vertical-align: middle;\n",
       "    }\n",
       "\n",
       "    .dataframe tbody tr th {\n",
       "        vertical-align: top;\n",
       "    }\n",
       "\n",
       "    .dataframe thead th {\n",
       "        text-align: right;\n",
       "    }\n",
       "</style>\n",
       "<table border=\"1\" class=\"dataframe\">\n",
       "  <thead>\n",
       "    <tr style=\"text-align: right;\">\n",
       "      <th></th>\n",
       "      <th>PassengerId</th>\n",
       "      <th>Survived</th>\n",
       "      <th>Pclass</th>\n",
       "      <th>Name</th>\n",
       "      <th>Sex</th>\n",
       "      <th>Age</th>\n",
       "      <th>SibSp</th>\n",
       "      <th>Parch</th>\n",
       "      <th>Ticket</th>\n",
       "      <th>Fare</th>\n",
       "      <th>Cabin</th>\n",
       "      <th>Embarked</th>\n",
       "    </tr>\n",
       "  </thead>\n",
       "  <tbody>\n",
       "    <tr>\n",
       "      <th>0</th>\n",
       "      <td>1</td>\n",
       "      <td>0</td>\n",
       "      <td>3</td>\n",
       "      <td>Braund, Mr. Owen Harris</td>\n",
       "      <td>male</td>\n",
       "      <td>22.0</td>\n",
       "      <td>1</td>\n",
       "      <td>0</td>\n",
       "      <td>A/5 21171</td>\n",
       "      <td>7.2500</td>\n",
       "      <td>NaN</td>\n",
       "      <td>S</td>\n",
       "    </tr>\n",
       "    <tr>\n",
       "      <th>1</th>\n",
       "      <td>2</td>\n",
       "      <td>1</td>\n",
       "      <td>1</td>\n",
       "      <td>Cumings, Mrs. John Bradley (Florence Briggs Th...</td>\n",
       "      <td>female</td>\n",
       "      <td>38.0</td>\n",
       "      <td>1</td>\n",
       "      <td>0</td>\n",
       "      <td>PC 17599</td>\n",
       "      <td>71.2833</td>\n",
       "      <td>C85</td>\n",
       "      <td>C</td>\n",
       "    </tr>\n",
       "    <tr>\n",
       "      <th>2</th>\n",
       "      <td>3</td>\n",
       "      <td>1</td>\n",
       "      <td>3</td>\n",
       "      <td>Heikkinen, Miss. Laina</td>\n",
       "      <td>female</td>\n",
       "      <td>26.0</td>\n",
       "      <td>0</td>\n",
       "      <td>0</td>\n",
       "      <td>STON/O2. 3101282</td>\n",
       "      <td>7.9250</td>\n",
       "      <td>NaN</td>\n",
       "      <td>S</td>\n",
       "    </tr>\n",
       "    <tr>\n",
       "      <th>3</th>\n",
       "      <td>4</td>\n",
       "      <td>1</td>\n",
       "      <td>1</td>\n",
       "      <td>Futrelle, Mrs. Jacques Heath (Lily May Peel)</td>\n",
       "      <td>female</td>\n",
       "      <td>35.0</td>\n",
       "      <td>1</td>\n",
       "      <td>0</td>\n",
       "      <td>113803</td>\n",
       "      <td>53.1000</td>\n",
       "      <td>C123</td>\n",
       "      <td>S</td>\n",
       "    </tr>\n",
       "    <tr>\n",
       "      <th>4</th>\n",
       "      <td>5</td>\n",
       "      <td>0</td>\n",
       "      <td>3</td>\n",
       "      <td>Allen, Mr. William Henry</td>\n",
       "      <td>male</td>\n",
       "      <td>35.0</td>\n",
       "      <td>0</td>\n",
       "      <td>0</td>\n",
       "      <td>373450</td>\n",
       "      <td>8.0500</td>\n",
       "      <td>NaN</td>\n",
       "      <td>S</td>\n",
       "    </tr>\n",
       "  </tbody>\n",
       "</table>\n",
       "</div>"
      ],
      "text/plain": [
       "   PassengerId  Survived  Pclass  \\\n",
       "0            1         0       3   \n",
       "1            2         1       1   \n",
       "2            3         1       3   \n",
       "3            4         1       1   \n",
       "4            5         0       3   \n",
       "\n",
       "                                                Name     Sex   Age  SibSp  \\\n",
       "0                            Braund, Mr. Owen Harris    male  22.0      1   \n",
       "1  Cumings, Mrs. John Bradley (Florence Briggs Th...  female  38.0      1   \n",
       "2                             Heikkinen, Miss. Laina  female  26.0      0   \n",
       "3       Futrelle, Mrs. Jacques Heath (Lily May Peel)  female  35.0      1   \n",
       "4                           Allen, Mr. William Henry    male  35.0      0   \n",
       "\n",
       "   Parch            Ticket     Fare Cabin Embarked  \n",
       "0      0         A/5 21171   7.2500   NaN        S  \n",
       "1      0          PC 17599  71.2833   C85        C  \n",
       "2      0  STON/O2. 3101282   7.9250   NaN        S  \n",
       "3      0            113803  53.1000  C123        S  \n",
       "4      0            373450   8.0500   NaN        S  "
      ]
     },
     "execution_count": 31,
     "metadata": {},
     "output_type": "execute_result"
    }
   ],
   "source": [
    "# Завантажуємо датасет Titanic. Обов'язково вкажіть правильний шлях до файлу.\n",
    "df = pd.read_csv('data/Titanic/Titanic-Dataset.csv')\n",
    "print(\"Датасет успішно завантажено.\")\n",
    "print(\"Перші 5 рядків даних:\")\n",
    "df.head()"
   ]
  },
  {
   "cell_type": "markdown",
   "id": "ad164537",
   "metadata": {},
   "source": [
    "### Попередня обробка даних"
   ]
  },
  {
   "cell_type": "code",
   "execution_count": 32,
   "id": "e0a7ac87",
   "metadata": {},
   "outputs": [
    {
     "name": "stdout",
     "output_type": "stream",
     "text": [
      "\n",
      "Стовпці перед видаленням: Index(['PassengerId', 'Survived', 'Pclass', 'Name', 'Sex', 'Age', 'SibSp',\n",
      "       'Parch', 'Ticket', 'Fare', 'Cabin', 'Embarked'],\n",
      "      dtype='object')\n",
      "Стовпці після видалення: Index(['Survived', 'Pclass', 'Sex', 'Age', 'SibSp', 'Parch', 'Fare',\n",
      "       'Embarked'],\n",
      "      dtype='object')\n"
     ]
    }
   ],
   "source": [
    "# Визначення ознак та цільової змінної\n",
    "# Визначаємо категоріальні та числові ознаки, які будемо використовувати.\n",
    "# Цільова змінна - 'Survived'.\n",
    "categorical_features = ['Sex', 'Embarked']\n",
    "numerical_features = ['Pclass', 'Age', 'SibSp', 'Parch', 'Fare']\n",
    "target = 'Survived'\n",
    "\n",
    "# Видаляємо непотрібні стовпці\n",
    "# 'PassengerId', 'Name', 'Ticket' не несуть корисної інформації для моделі.\n",
    "# 'Cabin' має занадто багато пропущених значень.\n",
    "print(\"\\nСтовпці перед видаленням:\", df.columns)\n",
    "df = df.drop(['PassengerId', 'Name', 'Ticket', 'Cabin'], axis=1)\n",
    "print(\"Стовпці після видалення:\", df.columns)"
   ]
  },
  {
   "cell_type": "markdown",
   "id": "0d150c86",
   "metadata": {},
   "source": [
    "#### Розділення даних на навчальну та тестову вибірки"
   ]
  },
  {
   "cell_type": "code",
   "execution_count": 33,
   "id": "a5bdb0bb",
   "metadata": {},
   "outputs": [
    {
     "name": "stdout",
     "output_type": "stream",
     "text": [
      "\n",
      "Розмір навчальної вибірки X: (712, 7)\n",
      "Розмір тестової вибірки X: (179, 7)\n",
      "Розмір навчальної вибірки y: (712,)\n",
      "Розмір тестової вибірки y: (179,)\n",
      "\n",
      "Розподіл класів у навчальній вибірці:\n",
      "Survived\n",
      "0    0.616573\n",
      "1    0.383427\n",
      "Name: proportion, dtype: float64\n",
      "Розподіл класів у тестовій вибірці:\n",
      "Survived\n",
      "0    0.614525\n",
      "1    0.385475\n",
      "Name: proportion, dtype: float64\n"
     ]
    }
   ],
   "source": [
    "# Розділяємо дані перед будь-якою обробкою\n",
    "X = df.drop(target, axis=1)\n",
    "y = df[target]\n",
    "X_train, X_test, y_train, y_test = train_test_split(X, y, test_size=0.2, random_state=42, stratify=y)\n",
    "\n",
    "print(f\"\\nРозмір навчальної вибірки X: {X_train.shape}\")\n",
    "print(f\"Розмір тестової вибірки X: {X_test.shape}\")\n",
    "print(f\"Розмір навчальної вибірки y: {y_train.shape}\")\n",
    "print(f\"Розмір тестової вибірки y: {y_test.shape}\")\n",
    "print(f\"\\nРозподіл класів у навчальній вибірці:\\n{y_train.value_counts(normalize=True)}\")\n",
    "print(f\"Розподіл класів у тестовій вибірці:\\n{y_test.value_counts(normalize=True)}\")"
   ]
  },
  {
   "cell_type": "markdown",
   "id": "cfcd31ed",
   "metadata": {},
   "source": [
    "#### Створення конвеєрів для обробки ознак\n",
    "Створюємо два конвеєри (pipelines): один для числових, інший для категоріальних ознак."
   ]
  },
  {
   "cell_type": "code",
   "execution_count": 34,
   "id": "557cf697",
   "metadata": {},
   "outputs": [],
   "source": [
    "# Конвеєр для числових ознак:\n",
    "# 1. SimpleImputer: Заповнює пропущені значення ('Age', 'Fare') медіаною.\n",
    "# 2. StandardScaler: Масштабує ознаки до нульового середнього та одиничної дисперсії.\n",
    "numerical_transformer = Pipeline(steps=[\n",
    "    ('imputer', SimpleImputer(strategy='median')),\n",
    "    ('scaler', StandardScaler())\n",
    "])\n",
    "\n",
    "# Конвеєр для категоріальних ознак:\n",
    "# 1. SimpleImputer: Заповнює пропущені значення ('Embarked') найчастішим значенням (модою).\n",
    "# 2. OneHotEncoder: Перетворює категоріальні ознаки на числові за допомогою one-hot encoding.\n",
    "#    handle_unknown='ignore' ігнорує категорії, які можуть з'явитися в тестовій вибірці, але були відсутні в навчальній.\n",
    "categorical_transformer = Pipeline(steps=[\n",
    "    ('imputer', SimpleImputer(strategy='most_frequent')),\n",
    "    ('onehot', OneHotEncoder(handle_unknown='ignore'))\n",
    "])"
   ]
  },
  {
   "cell_type": "markdown",
   "id": "0d1ebe6a",
   "metadata": {},
   "source": [
    "#### Об'єднання конвеєрів за допомогою ColumnTransformer"
   ]
  },
  {
   "cell_type": "code",
   "execution_count": 35,
   "id": "947b2a3d",
   "metadata": {},
   "outputs": [
    {
     "name": "stdout",
     "output_type": "stream",
     "text": [
      "\n",
      "Створено препроцесор для ознак.\n"
     ]
    }
   ],
   "source": [
    "# ColumnTransformer застосовує відповідний конвеєр до відповідних стовпців.\n",
    "# remainder='passthrough' залишає стовпці, не вказані в transformers, без змін (у нашому випадку таких немає після видалення)\n",
    "preprocessor = ColumnTransformer(\n",
    "    transformers=[\n",
    "        ('num', numerical_transformer, numerical_features),\n",
    "        ('cat', categorical_transformer, categorical_features)\n",
    "    ],\n",
    "    remainder='passthrough'\n",
    ")\n",
    "\n",
    "print(\"\\nСтворено препроцесор для ознак.\")"
   ]
  },
  {
   "cell_type": "markdown",
   "id": "8b429424",
   "metadata": {},
   "source": [
    "### Визначення слабких класифікаторів та їх ансамблів"
   ]
  },
  {
   "cell_type": "markdown",
   "id": "e3e24085",
   "metadata": {},
   "source": [
    "#### Налаштування класифікаторів"
   ]
  },
  {
   "cell_type": "code",
   "execution_count": 36,
   "id": "c2f927d3",
   "metadata": {},
   "outputs": [
    {
     "name": "stdout",
     "output_type": "stream",
     "text": [
      "Слабкі класифікатори визначено: MLP, SVM, Decision Tree.\n"
     ]
    }
   ],
   "source": [
    "# Використовуємо стандартні гіперпараметри\n",
    "# random_state=42 для відтворюваності результатів.\n",
    "# max_iter=1000 для MLPClassifier, щоб уникнути попереджень про незбіжність.\n",
    "# probability=True для SVC, щоб мати можливість використовувати 'soft' voting в кінцевому ансамблі.\n",
    "\n",
    "mlp_clf = MLPClassifier(random_state=42, max_iter=2000)\n",
    "svm_clf = SVC(random_state=42, probability=True) \n",
    "dt_clf = DecisionTreeClassifier(random_state=42)\n",
    "\n",
    "print(\"Слабкі класифікатори визначено: MLP, SVM, Decision Tree.\")"
   ]
  },
  {
   "cell_type": "markdown",
   "id": "a6edb643",
   "metadata": {},
   "source": [
    "#### Створення ансамблів за допомогою BaggingClassifier"
   ]
  },
  {
   "cell_type": "code",
   "execution_count": 37,
   "id": "fcd0a312",
   "metadata": {},
   "outputs": [
    {
     "name": "stdout",
     "output_type": "stream",
     "text": [
      "Ансамблі Bagging створено для MLP, SVM, Decision Tree.\n"
     ]
    }
   ],
   "source": [
    "# Використовуємо BaggingClassifier з параметрами за замовчуванням.\n",
    "# bootstrap=True означає використання бутстрепу (resampling with replacement).\n",
    "# n_estimators=10 - стандартна кількість базових моделей в ансамблі.\n",
    "\n",
    "bagging_mlp = BaggingClassifier(\n",
    "    # Важливо: передаємо новий екземпляр класифікатора в estimator\n",
    "    estimator=MLPClassifier(random_state=42, max_iter=2000),\n",
    "    n_estimators=10, random_state=42, n_jobs=-1 # n_jobs=-1 використовує всі доступні ядра процесора\n",
    ")\n",
    "\n",
    "bagging_svm = BaggingClassifier(\n",
    "    estimator=SVC(random_state=42, probability=True),\n",
    "    n_estimators=10, random_state=42, n_jobs=-1\n",
    ")\n",
    "\n",
    "bagging_dt = BaggingClassifier(\n",
    "    estimator=DecisionTreeClassifier(random_state=42),\n",
    "    n_estimators=10, random_state=42, n_jobs=-1\n",
    ")\n",
    "\n",
    "print(\"Ансамблі Bagging створено для MLP, SVM, Decision Tree.\")"
   ]
  },
  {
   "cell_type": "markdown",
   "id": "d2c185c4",
   "metadata": {},
   "source": [
    "#### Створення комбінованого ансамблю (слабкий класифікатор 1 + 2 + 3)\n",
    "Використовуємо VotingClassifier для об'єднання прогнозів трьох *забеггованих* моделей.<br>voting='soft' використовує прогнозовані ймовірності, що часто дає кращі результати.<br>Використовуємо забегговані моделі як базові оцінювачі для цього фінального ансамблю."
   ]
  },
  {
   "cell_type": "code",
   "execution_count": 38,
   "id": "8c984eb3",
   "metadata": {},
   "outputs": [
    {
     "name": "stdout",
     "output_type": "stream",
     "text": [
      "Комбінований ансамбль VotingClassifier створено.\n"
     ]
    }
   ],
   "source": [
    "# Створюємо нові екземпляри забегованих моделей для VotingClassifier,\n",
    "# щоб уникнути потенційних проблем зі станом моделей після попереднього навчання \n",
    "bagged_mlp_for_voting = BaggingClassifier(estimator=MLPClassifier(random_state=42, max_iter=2000), n_estimators=10, random_state=42, n_jobs=-1)\n",
    "bagged_svm_for_voting = BaggingClassifier(estimator=SVC(random_state=42, probability=True), n_estimators=10, random_state=42, n_jobs=-1)\n",
    "bagged_dt_for_voting = BaggingClassifier(estimator=DecisionTreeClassifier(random_state=42), n_estimators=10, random_state=42, n_jobs=-1)\n",
    "\n",
    "\n",
    "combined_ensemble = VotingClassifier(\n",
    "    estimators=[\n",
    "        ('bagged_mlp', bagged_mlp_for_voting),\n",
    "        ('bagged_svm', bagged_svm_for_voting),\n",
    "        ('bagged_dt', bagged_dt_for_voting)\n",
    "    ],\n",
    "    voting='soft' # Використовуємо м'яке голосування на основі ймовірностей\n",
    ")\n",
    "\n",
    "print(\"Комбінований ансамбль VotingClassifier створено.\")"
   ]
  },
  {
   "cell_type": "markdown",
   "id": "3cf64f2a",
   "metadata": {},
   "source": [
    "### Навчання та оцінка моделей"
   ]
  },
  {
   "cell_type": "markdown",
   "id": "d6d9b80f",
   "metadata": {},
   "source": [
    "#### Створення списку моделей для ітерації"
   ]
  },
  {
   "cell_type": "code",
   "execution_count": 39,
   "id": "1ed68869",
   "metadata": {},
   "outputs": [],
   "source": [
    "# Зберігаємо моделі та їх назви для зручного навчання та оцінки в циклі.\n",
    "# Важливо: ми використовуємо необроблені класифікатори тут. Обробка даних буде застосована через Pipeline.\n",
    "\n",
    "models = {\n",
    "    \"слабкий класифікатор 1 (MLP)\": mlp_clf,\n",
    "    \"ансамбль (слабкий класифікатор 1 - Bagged MLP)\": bagging_mlp,\n",
    "    \"слабкий класифікатор 2 (SVM)\": svm_clf,\n",
    "    \"ансамбль (слабкий класифікатор 2 - Bagged SVM)\": bagging_svm,\n",
    "    \"слабкий класифікатор 3 (Decision Tree)\": dt_clf,\n",
    "    \"ансамбль (слабкий класифікатор 3 - Bagged DT)\": bagging_dt,\n",
    "    \"ансамбль (Bagged MLP + Bagged SVM + Bagged DT)\": combined_ensemble\n",
    "}\n",
    "\n",
    "results = {} # Словник для зберігання результатів"
   ]
  },
  {
   "cell_type": "markdown",
   "id": "dc9305f0",
   "metadata": {},
   "source": [
    "#### Цикл навчання та оцінки"
   ]
  },
  {
   "cell_type": "code",
   "execution_count": 40,
   "id": "eb4a3539",
   "metadata": {},
   "outputs": [
    {
     "name": "stdout",
     "output_type": "stream",
     "text": [
      "\n",
      "--- Початок навчання та оцінки моделей ---\n",
      "\n",
      "Навчання моделі: слабкий класифікатор 1 (MLP)\n",
      "Результати для слабкий класифікатор 1 (MLP):\n",
      "  Accuracy: 0.7877\n",
      "  Precision (weighted): 0.7854\n",
      "  F1 Score (weighted): 0.7849\n",
      "\n",
      "Навчання моделі: ансамбль (слабкий класифікатор 1 - Bagged MLP)\n",
      "Результати для ансамбль (слабкий класифікатор 1 - Bagged MLP):\n",
      "  Accuracy: 0.7933\n",
      "  Precision (weighted): 0.7917\n",
      "  F1 Score (weighted): 0.7893\n",
      "\n",
      "Навчання моделі: слабкий класифікатор 2 (SVM)\n",
      "Результати для слабкий класифікатор 2 (SVM):\n",
      "  Accuracy: 0.8156\n",
      "  Precision (weighted): 0.8163\n",
      "  F1 Score (weighted): 0.8112\n",
      "\n",
      "Навчання моделі: ансамбль (слабкий класифікатор 2 - Bagged SVM)\n",
      "Результати для ансамбль (слабкий класифікатор 2 - Bagged SVM):\n",
      "  Accuracy: 0.8045\n",
      "  Precision (weighted): 0.8075\n",
      "  F1 Score (weighted): 0.7977\n",
      "\n",
      "Навчання моделі: слабкий класифікатор 3 (Decision Tree)\n",
      "Результати для слабкий класифікатор 3 (Decision Tree):\n",
      "  Accuracy: 0.8156\n",
      "  Precision (weighted): 0.8141\n",
      "  F1 Score (weighted): 0.8136\n",
      "\n",
      "Навчання моделі: ансамбль (слабкий класифікатор 3 - Bagged DT)\n",
      "Результати для ансамбль (слабкий класифікатор 3 - Bagged DT):\n",
      "  Accuracy: 0.8156\n",
      "  Precision (weighted): 0.8141\n",
      "  F1 Score (weighted): 0.8142\n",
      "\n",
      "Навчання моделі: ансамбль (Bagged MLP + Bagged SVM + Bagged DT)\n",
      "Результати для ансамбль (Bagged MLP + Bagged SVM + Bagged DT):\n",
      "  Accuracy: 0.7989\n",
      "  Precision (weighted): 0.7973\n",
      "  F1 Score (weighted): 0.7954\n",
      "\n",
      "--- Навчання та оцінка завершено ---\n"
     ]
    }
   ],
   "source": [
    "print(\"\\n--- Початок навчання та оцінки моделей ---\")\n",
    "for name, model in models.items():\n",
    "    print(f\"\\nНавчання моделі: {name}\")\n",
    "\n",
    "    # Створення повного конвеєра: препроцесор + модель\n",
    "    # Важливо створювати пайплайн всередині циклу, щоб кожна модель навчалася з \"чистим\" препроцесором\n",
    "    pipeline = Pipeline(steps=[('preprocessor', preprocessor),\n",
    "                               ('classifier', model)])\n",
    "\n",
    "    # Навчання моделі\n",
    "    try:\n",
    "        pipeline.fit(X_train, y_train)\n",
    "\n",
    "        # Прогнозування на тестовій вибірці\n",
    "        y_pred = pipeline.predict(X_test)\n",
    "\n",
    "        # Оцінка моделі\n",
    "        accuracy = accuracy_score(y_test, y_pred)\n",
    "        # Використовуємо weighted average для precision та f1-score, щоб врахувати можливий дисбаланс класів\n",
    "        precision = precision_score(y_test, y_pred, average='weighted', zero_division=0)\n",
    "        f1 = f1_score(y_test, y_pred, average='weighted', zero_division=0)\n",
    "\n",
    "        # Збереження результатів\n",
    "        # Метод бутстрапу для всіх ансамблів BaggingClassifier - 'resampling with replacement' (стандартний)\n",
    "        # Для окремих класифікаторів та VotingClassifier бутстрап не застосовується напряму.\n",
    "        bootstrap_method = \"resampling with replacement\" if isinstance(model, BaggingClassifier) else \"N/A\"\n",
    "        if isinstance(model, VotingClassifier): # Спеціальний випадок для VotingClassifier\n",
    "            bootstrap_method = \"N/A (Voting Ensemble)\"\n",
    "\n",
    "        results[name] = {\n",
    "            \"Bootstrap\": bootstrap_method,\n",
    "            \"Accuracy (test)\": accuracy,\n",
    "            \"Precision (test)\": precision,\n",
    "            \"F1 Score (test)\": f1\n",
    "        }\n",
    "\n",
    "        print(f\"Результати для {name}:\")\n",
    "        print(f\"  Accuracy: {accuracy:.4f}\")\n",
    "        print(f\"  Precision (weighted): {precision:.4f}\")\n",
    "        print(f\"  F1 Score (weighted): {f1:.4f}\")\n",
    "        # print(\"\\nClassification Report:\")\n",
    "        # print(classification_report(y_test, y_pred, zero_division=0)) # Детальний звіт\n",
    "\n",
    "    except Exception as e:\n",
    "        print(f\"Помилка під час навчання або оцінки моделі {name}: {e}\")\n",
    "        results[name] = {\n",
    "            \"Bootstrap\": \"Error\",\n",
    "            \"Accuracy (test)\": np.nan,\n",
    "            \"Precision (test)\": np.nan,\n",
    "            \"F1 Score (test)\": np.nan\n",
    "        }\n",
    "\n",
    "\n",
    "print(\"\\n--- Навчання та оцінка завершено ---\")"
   ]
  },
  {
   "cell_type": "markdown",
   "id": "3e142214",
   "metadata": {},
   "source": [
    "### Виведення результатів у вигляді таблиці"
   ]
  },
  {
   "cell_type": "code",
   "execution_count": 48,
   "id": "c8a9695e",
   "metadata": {},
   "outputs": [
    {
     "name": "stdout",
     "output_type": "stream",
     "text": [
      "\n",
      "--- Підсумкова таблиця результатів ---\n",
      "|                                                | Bootstrap                   |   Average Accuracy (test) |   Average Precision (test) |   F1 score (test) |\n",
      "|:-----------------------------------------------|:----------------------------|--------------------------:|---------------------------:|------------------:|\n",
      "| слабкий класифікатор 1 (MLP)                   | N/A                         |                    0.7877 |                     0.7854 |            0.7849 |\n",
      "| ансамбль (слабкий класифікатор 1 - Bagged MLP) | resampling with replacement |                    0.7933 |                     0.7917 |            0.7893 |\n",
      "| слабкий класифікатор 2 (SVM)                   | N/A                         |                    0.8156 |                     0.8163 |            0.8112 |\n",
      "| ансамбль (слабкий класифікатор 2 - Bagged SVM) | resampling with replacement |                    0.8045 |                     0.8075 |            0.7977 |\n",
      "| слабкий класифікатор 3 (Decision Tree)         | N/A                         |                    0.8156 |                     0.8141 |            0.8136 |\n",
      "| ансамбль (слабкий класифікатор 3 - Bagged DT)  | resampling with replacement |                    0.8156 |                     0.8141 |            0.8142 |\n",
      "| ансамбль (Bagged MLP + Bagged SVM + Bagged DT) | N/A (Voting Ensemble)       |                    0.7989 |                     0.7973 |            0.7954 |\n"
     ]
    }
   ],
   "source": [
    "print(\"\\n--- Підсумкова таблиця результатів ---\")\n",
    "results_df = pd.DataFrame.from_dict(results, orient='index')\n",
    "# Перейменування стовпців для відповідності таблиці з лабораторної\n",
    "results_df = results_df.rename(columns={\n",
    "    \"Accuracy (test)\": \"Average Accuracy (test)\",\n",
    "    \"Precision (test)\": \"Average Precision (test)\", # В лабораторній це \"(validation)\", але ми рахували на test\n",
    "    \"F1 Score (test)\": \"F1 score (test)\"\n",
    "})\n",
    "\n",
    "# Встановлення порядку стовпців як у лабораторній\n",
    "column_order = [\n",
    "    \"Bootstrap\",\n",
    "    \"Average Accuracy (test)\",\n",
    "    \"Average Precision (test)\",\n",
    "    \"F1 score (test)\"\n",
    "]\n",
    "# Додаємо відсутні стовпці, якщо їх немає, і перевпорядковуємо\n",
    "for col in column_order:\n",
    "    if col not in results_df.columns:\n",
    "        results_df[col] = \"N/A\" # Або інше значення за замовчуванням\n",
    "\n",
    "results_df = results_df[column_order]\n",
    "\n",
    "\n",
    "print(results_df.to_markdown(floatfmt=\".4f\")) # Вивід у форматі Markdown"
   ]
  }
 ],
 "metadata": {
  "kernelspec": {
   "display_name": ".venv",
   "language": "python",
   "name": "python3"
  },
  "language_info": {
   "codemirror_mode": {
    "name": "ipython",
    "version": 3
   },
   "file_extension": ".py",
   "mimetype": "text/x-python",
   "name": "python",
   "nbconvert_exporter": "python",
   "pygments_lexer": "ipython3",
   "version": "3.10.12"
  }
 },
 "nbformat": 4,
 "nbformat_minor": 5
}
